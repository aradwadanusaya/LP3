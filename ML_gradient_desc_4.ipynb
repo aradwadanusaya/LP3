{
 "cells": [
  {
   "cell_type": "code",
   "execution_count": null,
   "metadata": {},
   "outputs": [],
   "source": [
    "#Assignment4\n",
    "import numpy as np\n",
    "import matplotlib.pyplot as plt\n",
    "\n",
    "def f(x):\n",
    "    return (x + 3) ** 2\n",
    "\n",
    "def df(x):\n",
    "    return 2 * (x + 3)\n",
    "\n",
    "def gradient_descent(initial, rate, iterations):\n",
    "    x = initial\n",
    "    history = [x]\n",
    "\n",
    "    for i in range(iterations):\n",
    "        gradient = df(x)\n",
    "        x = x - rate * gradient\n",
    "        history.append(x)\n",
    "\n",
    "    return x, history\n",
    "\n",
    "initial = 0\n",
    "rate = 0.1\n",
    "iterations = 50\n",
    "\n",
    "x, history = gradient_descent(initial, rate, iterations)\n",
    "\n",
    "print(\"Local minimum: {:.2f}\".format(x))\n",
    "\n",
    "values = np.linspace(-10, 4, 100)\n",
    "\n",
    "plt.plot(values, f(values))\n",
    "plt.plot(history, f(np.array(history)), 'rx')\n",
    "\n",
    "plt.xlabel('x')\n",
    "plt.ylabel('f(x)')\n",
    "plt.title('Gradient Descent')\n",
    "\n",
    "plt.show()"
   ]
  }
 ],
 "metadata": {
  "kernelspec": {
   "display_name": "Python 3",
   "language": "python",
   "name": "python3"
  },
  "language_info": {
   "codemirror_mode": {
    "name": "ipython",
    "version": 3
   },
   "file_extension": ".py",
   "mimetype": "text/x-python",
   "name": "python",
   "nbconvert_exporter": "python",
   "pygments_lexer": "ipython3",
   "version": "3.8.5"
  }
 },
 "nbformat": 4,
 "nbformat_minor": 4
}
