{
 "cells": [
  {
   "cell_type": "markdown",
   "metadata": {},
   "source": [
    "# Fibonacci using Recursion"
   ]
  },
  {
   "cell_type": "code",
   "execution_count": 2,
   "metadata": {},
   "outputs": [
    {
     "name": "stdout",
     "output_type": "stream",
     "text": [
      "Enter the number of Fibonacci terms: 7\n",
      "Fibonacci Series:\n",
      "0 1 1 2 3 5 8 "
     ]
    }
   ],
   "source": [
    "def fibonacci(n):\n",
    "    if n <= 0:\n",
    "        return 0\n",
    "    elif n == 1:\n",
    "        return 1\n",
    "    else:\n",
    "        return fibonacci(n - 1) + fibonacci(n - 2)\n",
    "\n",
    "# Number of terms in the Fibonacci series\n",
    "terms = int(input(\"Enter the number of Fibonacci terms: \"))\n",
    "\n",
    "if terms <= 0:\n",
    "    print(\"Please enter a positive number of terms.\")\n",
    "else:\n",
    "    print(\"Fibonacci Series:\")\n",
    "    for i in range(terms):\n",
    "        print(fibonacci(i), end=\" \")\n"
   ]
  },
  {
   "cell_type": "markdown",
   "metadata": {},
   "source": [
    "# Non Recursive Fibonacci"
   ]
  },
  {
   "cell_type": "code",
   "execution_count": 3,
   "metadata": {},
   "outputs": [
    {
     "name": "stdout",
     "output_type": "stream",
     "text": [
      "0\n",
      "1\n",
      "1\n",
      "2\n",
      "3\n",
      "5\n",
      "8\n",
      "13\n",
      "21\n",
      "34\n"
     ]
    }
   ],
   "source": [
    "def non_recursive_fibonacci(n):\n",
    " first=0\n",
    " second=1\n",
    " print(first)\n",
    " print(second)\n",
    " while n-2>0:\n",
    "     third = first + second\n",
    "     first=second\n",
    "     second=third\n",
    "     print(third)\n",
    "     n-=1\n",
    " \n",
    "non_recursive_fibonacci(10)"
   ]
  },
  {
   "cell_type": "markdown",
   "metadata": {},
   "source": [
    "# Huffman Coding"
   ]
  },
  {
   "cell_type": "code",
   "execution_count": 4,
   "metadata": {},
   "outputs": [
    {
     "name": "stdout",
     "output_type": "stream",
     "text": [
      "Character Huffman Codes:\n",
      "g: 0000\n",
      "e: 0001\n",
      "c: 001\n",
      "b: 010\n",
      "d: 011\n",
      "a: 10\n",
      "f: 11\n"
     ]
    }
   ],
   "source": [
    "import heapq\n",
    "\n",
    "class HuffmanNode:\n",
    "    def __init__(self, char, freq):\n",
    "        self.char = char\n",
    "        self.freq = freq\n",
    "        self.left = None\n",
    "        self.right = None\n",
    "\n",
    "    def __lt__(self, other):\n",
    "        return self.freq < other.freq\n",
    "\n",
    "def build_huffman_tree(characters, frequencies):\n",
    "    heap = [HuffmanNode(char, freq) for char, freq in zip(characters, frequencies)]\n",
    "    heapq.heapify(heap)\n",
    "\n",
    "    while len(heap) > 1:\n",
    "        left = heapq.heappop(heap)\n",
    "        right = heapq.heappop(heap)\n",
    "\n",
    "        internal_node = HuffmanNode(None, left.freq + right.freq)\n",
    "        internal_node.left = left\n",
    "        internal_node.right = right\n",
    "\n",
    "        heapq.heappush(heap, internal_node)\n",
    "\n",
    "    return heap[0]\n",
    "\n",
    "def huffman_codes(root):\n",
    "    huffman_map = {}\n",
    "\n",
    "    def generate_codes(node, current_code):\n",
    "        if node is not None:\n",
    "            if node.char is not None:\n",
    "                huffman_map[node.char] = current_code\n",
    "            generate_codes(node.left, current_code + '0')\n",
    "            generate_codes(node.right, current_code + '1')\n",
    "\n",
    "    generate_codes(root, '')\n",
    "    return huffman_map\n",
    "\n",
    "if __name__ == \"__main__\":\n",
    "    characters = ['a', 'b', 'c', 'd', 'e', 'f', 'g']\n",
    "    frequencies = [45, 13, 12, 16, 9, 50, 0]\n",
    "\n",
    "    root = build_huffman_tree(characters, frequencies)\n",
    "    huffman_codes = huffman_codes(root)\n",
    "\n",
    "    print(\"Character Huffman Codes:\")\n",
    "    for char, code in huffman_codes.items():\n",
    "        print(f\"{char}: {code}\")\n"
   ]
  },
  {
   "cell_type": "markdown",
   "metadata": {},
   "source": [
    "# Fractional Knapsack"
   ]
  },
  {
   "cell_type": "code",
   "execution_count": 5,
   "metadata": {},
   "outputs": [
    {
     "name": "stdout",
     "output_type": "stream",
     "text": [
      "Maximum value obtained is: 240.0\n"
     ]
    }
   ],
   "source": [
    "class Item:\n",
    "    def __init__(self, profit, weight):\n",
    "        self.profit = profit\n",
    "        self.weight = weight\n",
    "        self.ratio = profit / weight\n",
    "\n",
    "def fractionalKnapsack(W, arr):\n",
    "    # Sort items by the profit-to-weight ratio in descending order\n",
    "    arr.sort(key=lambda x: x.ratio, reverse=True)\n",
    "    \n",
    "    final_value = 0.0\n",
    "    for item in arr:\n",
    "        if W >= item.weight:\n",
    "            final_value += item.profit\n",
    "            W -= item.weight\n",
    "        else:\n",
    "            final_value += item.ratio * W\n",
    "            break\n",
    "    \n",
    "    return final_value\n",
    "\n",
    "if __name__ == \"__main__\":\n",
    "    W = 50\n",
    "    arr = [Item(60, 10), Item(100, 20), Item(120, 30)]\n",
    "    max_val = fractionalKnapsack(W, arr)\n",
    "    print(\"Maximum value obtained is:\", max_val)\n"
   ]
  },
  {
   "cell_type": "markdown",
   "metadata": {},
   "source": [
    "# 0-1 Knapsack"
   ]
  },
  {
   "cell_type": "code",
   "execution_count": 6,
   "metadata": {},
   "outputs": [
    {
     "name": "stdout",
     "output_type": "stream",
     "text": [
      "350\n"
     ]
    }
   ],
   "source": [
    "def solve_knapsack():\n",
    "    val = [50, 100, 150, 200]  # Value array\n",
    "    wt = [8, 16, 32, 40]      # Weight array\n",
    "    W = 64\n",
    "    n = len(val)\n",
    "\n",
    "    def knapsack(W, n):  # (Remaining Weight, Number of items checked)\n",
    "        # Base case\n",
    "        if n <= 0 or W <= 0:\n",
    "            return 0\n",
    "\n",
    "        # Higher weight than available\n",
    "        if wt[n - 1] > W:\n",
    "            return knapsack(W, n - 1)\n",
    "\n",
    "        else:\n",
    "            return max(val[n - 1] + knapsack(W - wt[n - 1], n - 1), knapsack(W, n - 1))  # max(including, not including)\n",
    "\n",
    "    print(knapsack(W, n))\n",
    "\n",
    "if __name__ == \"__main__\":\n",
    "    solve_knapsack()\n"
   ]
  },
  {
   "cell_type": "markdown",
   "metadata": {},
   "source": [
    "# 8-Queens Problem "
   ]
  },
  {
   "cell_type": "code",
   "execution_count": 7,
   "metadata": {},
   "outputs": [
    {
     "name": "stdout",
     "output_type": "stream",
     "text": [
      "0 1 0 0\n",
      "0 0 0 1\n",
      "1 0 0 0\n",
      "0 0 1 0\n",
      "\n",
      "0 0 1 0\n",
      "1 0 0 0\n",
      "0 0 0 1\n",
      "0 1 0 0\n",
      "\n"
     ]
    }
   ],
   "source": [
    "def n_queens(n):\n",
    "    col = set()\n",
    "    posDiag = set()  # (r+c)\n",
    "    negDiag = set()  # (r-c)\n",
    "    res = []\n",
    "    board = [[\"0\"] * n for _ in range(n)]\n",
    "\n",
    "    def backtrack(r):\n",
    "        if r == n:\n",
    "            copy = [\" \".join(row) for row in board]\n",
    "            res.append(copy)\n",
    "            return\n",
    "        for c in range(n):\n",
    "            if c in col or (r + c) in posDiag or (r - c) in negDiag:\n",
    "                continue\n",
    "            col.add(c)\n",
    "            posDiag.add(r + c)\n",
    "            negDiag.add(r - c)\n",
    "            board[r][c] = \"1\"\n",
    "            backtrack(r + 1)\n",
    "            col.remove(c)\n",
    "            posDiag.remove(r + c)\n",
    "            negDiag.remove(r - c)\n",
    "            board[r][c] = \"0\"\n",
    "\n",
    "    backtrack(0)\n",
    "    for sol in res:\n",
    "        for row in sol:\n",
    "            print(row)\n",
    "        print()\n",
    "\n",
    "if __name__ == \"__main__\":\n",
    "    n_queens(4)\n"
   ]
  },
  {
   "cell_type": "markdown",
   "metadata": {},
   "source": [
    "# Deterministic Quicksort"
   ]
  },
  {
   "cell_type": "code",
   "execution_count": 8,
   "metadata": {},
   "outputs": [
    {
     "name": "stdout",
     "output_type": "stream",
     "text": [
      "Enter a list of numbers separated by spaces or commas: 12,45,2,65,7,6\n",
      "[2, 6, 7, 12, 45, 65]\n"
     ]
    }
   ],
   "source": [
    "def deterministic_quicksort(arr):\n",
    "    if len(arr) <= 1:\n",
    "        return arr\n",
    "\n",
    "    # Choose pivot using Median of Three\n",
    "    first, middle, last = arr[0], arr[len(arr)//2], arr[-1]\n",
    "    pivot = sorted([first, middle, last])[1]\n",
    "\n",
    "    less = [x for x in arr if x < pivot]\n",
    "    equal = [x for x in arr if x == pivot]\n",
    "    greater = [x for x in arr if x > pivot]\n",
    "\n",
    "    return deterministic_quicksort(less) + equal + deterministic_quicksort(greater)\n",
    "\n",
    "\n",
    "input_numbers = input(\"Enter a list of numbers separated by spaces or commas: \")\n",
    "# Split the input into a list of integers\n",
    "arr = [int(x) for x in input_numbers.replace(',', ' ').split()]\n",
    "\n",
    "sorted_arr = deterministic_quicksort(arr)\n",
    "print(sorted_arr)\n"
   ]
  },
  {
   "cell_type": "markdown",
   "metadata": {},
   "source": [
    "# Randomized Quicksort "
   ]
  },
  {
   "cell_type": "code",
   "execution_count": 9,
   "metadata": {},
   "outputs": [
    {
     "name": "stdout",
     "output_type": "stream",
     "text": [
      "[1, 1, 2, 3, 6, 8, 10]\n"
     ]
    }
   ],
   "source": [
    "import random\n",
    "\n",
    "def randomized_quicksort(arr):\n",
    "    if len(arr) <= 1:\n",
    "        return arr\n",
    "\n",
    "    # Choose a random pivot\n",
    "    pivot = random.choice(arr)\n",
    "\n",
    "    # Partition the array\n",
    "    less = [x for x in arr if x < pivot]\n",
    "    equal = [x for x in arr if x == pivot]\n",
    "    greater = [x for x in arr if x > pivot]\n",
    "\n",
    "    return randomized_quicksort(less) + equal + randomized_quicksort(greater)\n",
    "\n",
    "# Example usage:\n",
    "arr = [3, 6, 8, 10, 1, 2, 1]\n",
    "sorted_arr = randomized_quicksort(arr)\n",
    "print(sorted_arr)\n"
   ]
  },
  {
   "cell_type": "code",
   "execution_count": null,
   "metadata": {},
   "outputs": [],
   "source": []
  }
 ],
 "metadata": {
  "kernelspec": {
   "display_name": "Python 3",
   "language": "python",
   "name": "python3"
  },
  "language_info": {
   "codemirror_mode": {
    "name": "ipython",
    "version": 3
   },
   "file_extension": ".py",
   "mimetype": "text/x-python",
   "name": "python",
   "nbconvert_exporter": "python",
   "pygments_lexer": "ipython3",
   "version": "3.8.5"
  }
 },
 "nbformat": 4,
 "nbformat_minor": 4
}
